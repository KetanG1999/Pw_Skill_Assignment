{
  "nbformat": 4,
  "nbformat_minor": 0,
  "metadata": {
    "colab": {
      "provenance": []
    },
    "kernelspec": {
      "name": "python3",
      "display_name": "Python 3"
    },
    "language_info": {
      "name": "python"
    }
  },
  "cells": [
    {
      "cell_type": "code",
      "execution_count": null,
      "metadata": {
        "id": "sgbW_7IRr8GF"
      },
      "outputs": [],
      "source": []
    },
    {
      "cell_type": "markdown",
      "source": [
        "1. Write a python program to print'Hello World'"
      ],
      "metadata": {
        "id": "YUd7ELcrsYex"
      }
    },
    {
      "cell_type": "code",
      "source": [
        "print(\"Hello World\")"
      ],
      "metadata": {
        "colab": {
          "base_uri": "https://localhost:8080/"
        },
        "id": "6mHrHzkUs13D",
        "outputId": "6a81ef26-c5d4-43f4-c2f4-4e5a4dcb4d9b"
      },
      "execution_count": null,
      "outputs": [
        {
          "output_type": "stream",
          "name": "stdout",
          "text": [
            "Hello World\n"
          ]
        }
      ]
    },
    {
      "cell_type": "markdown",
      "source": [],
      "metadata": {
        "id": "rLXqxkLHvty_"
      }
    },
    {
      "cell_type": "markdown",
      "source": [
        "2. Write a program that displays your name and age."
      ],
      "metadata": {
        "id": "AB-7R7Ags_h_"
      }
    },
    {
      "cell_type": "code",
      "source": [
        "# Using the user input\n",
        "name = str(input('Enter Your Name: '))\n",
        "age = int(input('Enter your age: '))\n",
        "print(name)\n",
        "print(age)\n",
        "\n",
        "# Using the static input\n",
        "\n",
        "name = \"Ketan Gosavi\"\n",
        "age = \"25\"\n",
        "print(name)\n",
        "print(age)"
      ],
      "metadata": {
        "colab": {
          "base_uri": "https://localhost:8080/"
        },
        "id": "4m3aRklYtPW7",
        "outputId": "704551a9-4495-4329-daa3-13830173b4d8",
        "collapsed": true
      },
      "execution_count": null,
      "outputs": [
        {
          "output_type": "stream",
          "name": "stdout",
          "text": [
            "Enter Your Name: ketan\n",
            "Enter your age: 25\n",
            "ketan\n",
            "25\n",
            "Ketan Gosavi\n",
            "25\n"
          ]
        }
      ]
    },
    {
      "cell_type": "markdown",
      "source": [
        "3. write a code to print all the pre-defined keywords in python using the keyword library."
      ],
      "metadata": {
        "id": "hry7qJ59vxug"
      }
    },
    {
      "cell_type": "code",
      "source": [
        "import keyword\n",
        "\n",
        "# Get the list of Python keywords\n",
        "keywords = keyword.kwlist\n",
        "\n",
        "# Print the keywords\n",
        "print(\"Python Keywords:\")\n",
        "for kw in keywords:\n",
        "    print(kw)\n"
      ],
      "metadata": {
        "colab": {
          "base_uri": "https://localhost:8080/"
        },
        "id": "qNWelowfwLQh",
        "outputId": "8b36814d-747e-4252-887a-002057ba5e12",
        "collapsed": true
      },
      "execution_count": null,
      "outputs": [
        {
          "output_type": "stream",
          "name": "stdout",
          "text": [
            "Python Keywords:\n",
            "False\n",
            "None\n",
            "True\n",
            "and\n",
            "as\n",
            "assert\n",
            "async\n",
            "await\n",
            "break\n",
            "class\n",
            "continue\n",
            "def\n",
            "del\n",
            "elif\n",
            "else\n",
            "except\n",
            "finally\n",
            "for\n",
            "from\n",
            "global\n",
            "if\n",
            "import\n",
            "in\n",
            "is\n",
            "lambda\n",
            "nonlocal\n",
            "not\n",
            "or\n",
            "pass\n",
            "raise\n",
            "return\n",
            "try\n",
            "while\n",
            "with\n",
            "yield\n"
          ]
        }
      ]
    },
    {
      "cell_type": "markdown",
      "source": [
        "4. write a program to checks if a given word is a pytho keyword."
      ],
      "metadata": {
        "id": "fTU3hAcc3DkM"
      }
    },
    {
      "cell_type": "code",
      "source": [
        "# List of predefined Python keywords\n",
        "keywords = [\n",
        "    \"False\", \"None\", \"True\", \"and\", \"as\", \"assert\", \"async\", \"await\", \"break\",\n",
        "    \"class\", \"continue\", \"def\", \"del\", \"elif\", \"else\", \"except\", \"finally\",\n",
        "    \"for\", \"from\", \"global\", \"if\", \"import\", \"in\", \"is\", \"lambda\", \"nonlocal\",\n",
        "    \"not\", \"or\", \"pass\", \"raise\", \"return\", \"try\", \"while\", \"with\", \"yield\"\n",
        "]\n",
        "\n",
        "# Function to check if a word is a keyword\n",
        "def is_keyword(word):\n",
        "    return word in keywords\n",
        "\n",
        "# Input from user\n",
        "word = input(\"Enter a word to check if it is a Python keyword: \")\n",
        "\n",
        "# Check if the word is a keyword\n",
        "if is_keyword(word):\n",
        "    print(f\"'{word}' is a Python keyword.\")\n",
        "else:\n",
        "    print(f\"'{word}' is not a Python keyword.\")\n"
      ],
      "metadata": {
        "colab": {
          "base_uri": "https://localhost:8080/"
        },
        "id": "KmBTUbuF3i_r",
        "outputId": "17daf091-91a3-4670-82e5-e493f5281077",
        "collapsed": true
      },
      "execution_count": null,
      "outputs": [
        {
          "output_type": "stream",
          "name": "stdout",
          "text": [
            "Enter a word to check if it is a Python keyword: False\n",
            "'False' is a Python keyword.\n"
          ]
        }
      ]
    },
    {
      "cell_type": "markdown",
      "source": [
        "5. create a list and tuple in python and demostrate how attempting to change an element works differntly."
      ],
      "metadata": {
        "id": "jrG2FYES35bI"
      }
    },
    {
      "cell_type": "code",
      "source": [
        "# For list\n",
        "my_list = [1, 2, 3, 4, 5]\n",
        "print(\"Original list:\", my_list)\n",
        "\n",
        "# Change an element in the list\n",
        "my_list[2] = 10\n",
        "print(\"Modified list:\", my_list)\n",
        "\n",
        "# For tuple\n",
        "my_tuple = (1, 2, 3, 4, 5)\n",
        "print(\"Original tuple:\", my_tuple)\n",
        "my_tuple[1] = 9\n",
        "print('modified tuple:',my_tuple)\n",
        "\n",
        "## Note : The tuple is not the changable thats why it shows the error"
      ],
      "metadata": {
        "colab": {
          "base_uri": "https://localhost:8080/",
          "height": 245
        },
        "id": "rROjGcDF4fL9",
        "outputId": "bd24c9e2-90f0-4dee-c1d2-0148e7729286",
        "collapsed": true
      },
      "execution_count": null,
      "outputs": [
        {
          "output_type": "stream",
          "name": "stdout",
          "text": [
            "Original list: [1, 2, 3, 4, 5]\n",
            "Modified list: [1, 2, 10, 4, 5]\n",
            "Original tuple: (1, 2, 3, 4, 5)\n"
          ]
        },
        {
          "output_type": "error",
          "ename": "TypeError",
          "evalue": "'tuple' object does not support item assignment",
          "traceback": [
            "\u001b[0;31m---------------------------------------------------------------------------\u001b[0m",
            "\u001b[0;31mTypeError\u001b[0m                                 Traceback (most recent call last)",
            "\u001b[0;32m<ipython-input-7-94b99a4aa4f5>\u001b[0m in \u001b[0;36m<cell line: 12>\u001b[0;34m()\u001b[0m\n\u001b[1;32m     10\u001b[0m \u001b[0mmy_tuple\u001b[0m \u001b[0;34m=\u001b[0m \u001b[0;34m(\u001b[0m\u001b[0;36m1\u001b[0m\u001b[0;34m,\u001b[0m \u001b[0;36m2\u001b[0m\u001b[0;34m,\u001b[0m \u001b[0;36m3\u001b[0m\u001b[0;34m,\u001b[0m \u001b[0;36m4\u001b[0m\u001b[0;34m,\u001b[0m \u001b[0;36m5\u001b[0m\u001b[0;34m)\u001b[0m\u001b[0;34m\u001b[0m\u001b[0;34m\u001b[0m\u001b[0m\n\u001b[1;32m     11\u001b[0m \u001b[0mprint\u001b[0m\u001b[0;34m(\u001b[0m\u001b[0;34m\"Original tuple:\"\u001b[0m\u001b[0;34m,\u001b[0m \u001b[0mmy_tuple\u001b[0m\u001b[0;34m)\u001b[0m\u001b[0;34m\u001b[0m\u001b[0;34m\u001b[0m\u001b[0m\n\u001b[0;32m---> 12\u001b[0;31m \u001b[0mmy_tuple\u001b[0m\u001b[0;34m[\u001b[0m\u001b[0;36m1\u001b[0m\u001b[0;34m]\u001b[0m \u001b[0;34m=\u001b[0m \u001b[0;36m9\u001b[0m\u001b[0;34m\u001b[0m\u001b[0;34m\u001b[0m\u001b[0m\n\u001b[0m\u001b[1;32m     13\u001b[0m \u001b[0mprint\u001b[0m\u001b[0;34m(\u001b[0m\u001b[0;34m'modified tuple:'\u001b[0m\u001b[0;34m,\u001b[0m\u001b[0mmy_tuple\u001b[0m\u001b[0;34m)\u001b[0m\u001b[0;34m\u001b[0m\u001b[0;34m\u001b[0m\u001b[0m\n",
            "\u001b[0;31mTypeError\u001b[0m: 'tuple' object does not support item assignment"
          ]
        }
      ]
    },
    {
      "cell_type": "markdown",
      "source": [
        "6. write a function to demostrate the behavour of mutable and immutable arguments."
      ],
      "metadata": {
        "id": "_TWI6JfH5-AE"
      }
    },
    {
      "cell_type": "code",
      "source": [
        "#  Trying to solve"
      ],
      "metadata": {
        "id": "HtyJZZdF6Sfd"
      },
      "execution_count": null,
      "outputs": []
    },
    {
      "cell_type": "markdown",
      "source": [
        "7. quetion 7 is same as quetion 6"
      ],
      "metadata": {
        "id": "a0gr3En67-qe"
      }
    },
    {
      "cell_type": "markdown",
      "source": [
        "8. write a program to demonstrate the use of logical operations."
      ],
      "metadata": {
        "id": "1fW3VdSW8O6l"
      }
    },
    {
      "cell_type": "code",
      "source": [
        "# trying to the solve"
      ],
      "metadata": {
        "id": "cST5nbfk8zJy"
      },
      "execution_count": null,
      "outputs": []
    },
    {
      "cell_type": "markdown",
      "source": [
        "9. write a python program convert user input from string to integer ,float and boolean types."
      ],
      "metadata": {
        "id": "FCbC1H6_84L5"
      }
    },
    {
      "cell_type": "markdown",
      "source": [],
      "metadata": {
        "id": "YZs_tnDC-UH2"
      }
    },
    {
      "cell_type": "code",
      "source": [
        "input_value = input(\"Enter the Value: \")\n",
        "int_value = int(input_value)\n",
        "print(int_value)\n",
        "float_value = float(input_value)\n",
        "print(float_value)\n",
        "bool_value = bool(input_value)\n",
        "print(bool_value)"
      ],
      "metadata": {
        "colab": {
          "base_uri": "https://localhost:8080/"
        },
        "id": "Cc4Ef5XG-DcC",
        "outputId": "68a39bda-0b56-4526-af98-f75971d89e54",
        "collapsed": true
      },
      "execution_count": null,
      "outputs": [
        {
          "output_type": "stream",
          "name": "stdout",
          "text": [
            "Enter the Value: 987\n",
            "987\n",
            "987.0\n",
            "True\n"
          ]
        }
      ]
    },
    {
      "cell_type": "markdown",
      "source": [
        "10. write a code to dmonstrate type casting with list element."
      ],
      "metadata": {
        "id": "Q2DkVURd_gey"
      }
    },
    {
      "cell_type": "code",
      "source": [
        "list_casting = [1,2,3,4,45]\n",
        "print('Type of list',type(list_casting))"
      ],
      "metadata": {
        "colab": {
          "base_uri": "https://localhost:8080/"
        },
        "id": "4C-A-IxtAh4E",
        "outputId": "5ed274e2-47dd-4f28-b66a-a043a48af2c2"
      },
      "execution_count": null,
      "outputs": [
        {
          "output_type": "stream",
          "name": "stdout",
          "text": [
            "Type of list <class 'list'>\n"
          ]
        }
      ]
    },
    {
      "cell_type": "markdown",
      "source": [
        "11. write a python program to check the number is positive or negative."
      ],
      "metadata": {
        "id": "KbZf68CXFwi8"
      }
    },
    {
      "cell_type": "code",
      "source": [
        "# give the user input\n",
        "number = float(input(\"Enter a number: \"))\n",
        "\n",
        "if number > 0: # logic for check\n",
        "    print(\"number is positive.\")\n",
        "elif number < 0:\n",
        "    print(\"number is negative.\")\n",
        "else:\n",
        "    print(\"number is zero.\")\n"
      ],
      "metadata": {
        "colab": {
          "base_uri": "https://localhost:8080/"
        },
        "id": "H4GHqD9nGd9O",
        "outputId": "3dd5490d-083f-4d17-d89e-4b3be452a92d"
      },
      "execution_count": null,
      "outputs": [
        {
          "output_type": "stream",
          "name": "stdout",
          "text": [
            "Enter a number: -7\n",
            "number is negative.\n"
          ]
        }
      ]
    },
    {
      "cell_type": "markdown",
      "source": [
        "12. write a for loop to print the number fron 1 to 10."
      ],
      "metadata": {
        "id": "rGRkKqUeHH7H"
      }
    },
    {
      "cell_type": "code",
      "source": [
        "for number in range(1, 11):\n",
        "    print(number)\n"
      ],
      "metadata": {
        "colab": {
          "base_uri": "https://localhost:8080/"
        },
        "id": "JNGoJxzbHwG4",
        "outputId": "b3c3bf5f-0383-4ea8-d030-d8d68037ff38",
        "collapsed": true
      },
      "execution_count": null,
      "outputs": [
        {
          "output_type": "stream",
          "name": "stdout",
          "text": [
            "1\n",
            "2\n",
            "3\n",
            "4\n",
            "5\n",
            "6\n",
            "7\n",
            "8\n",
            "9\n",
            "10\n"
          ]
        }
      ]
    },
    {
      "cell_type": "markdown",
      "source": [
        "13. write a python program to find the give a sum of all even numbers between 1 to 50"
      ],
      "metadata": {
        "id": "1d_aKxxbH8qr"
      }
    },
    {
      "cell_type": "code",
      "source": [
        "sum_of_even_numbers = 0\n",
        "\n",
        "for number in range(1, 51):   # for loop\n",
        "    if number % 2 == 0:      # logic\n",
        "        sum_of_even_numbers += number\n",
        "print(\"Sum of all even numbers between 1 and 50:\", sum_of_even_numbers)\n"
      ],
      "metadata": {
        "colab": {
          "base_uri": "https://localhost:8080/"
        },
        "id": "C55lEyviIbNn",
        "outputId": "5175210f-f1a8-4f9b-adfc-224bc454aabb",
        "collapsed": true
      },
      "execution_count": null,
      "outputs": [
        {
          "output_type": "stream",
          "name": "stdout",
          "text": [
            "Sum of all even numbers between 1 and 50: 650\n"
          ]
        }
      ]
    },
    {
      "cell_type": "markdown",
      "source": [
        "14. write a program to reverse a string using while loop."
      ],
      "metadata": {
        "id": "zEcqT0DXK8iE"
      }
    },
    {
      "cell_type": "code",
      "source": [
        "input_string = input(\"Enter a string to reverse: \")\n",
        "# giving input\n",
        "reversed_string = \"\"\n",
        "index = len(input_string) - 1\n",
        "while index >= 0:\n",
        "    reversed_string += input_string[index]\n",
        "    index -= 1\n",
        "print(\"Reversed string:\", reversed_string)\n"
      ],
      "metadata": {
        "colab": {
          "base_uri": "https://localhost:8080/"
        },
        "id": "03qyGhPqLm0Z",
        "outputId": "c0c08f73-730f-4727-d878-9cb159bae8b4",
        "collapsed": true
      },
      "execution_count": null,
      "outputs": [
        {
          "output_type": "stream",
          "name": "stdout",
          "text": [
            "Enter a string to reverse: ketan\n",
            "Reversed string: natek\n"
          ]
        }
      ]
    },
    {
      "cell_type": "markdown",
      "source": [
        "15. write a python program to calculate the factorial of a number provided by the user using while lop."
      ],
      "metadata": {
        "id": "4GbN-kaPL9wA"
      }
    },
    {
      "cell_type": "code",
      "source": [
        "number = int(input(\"Enter a number to calculate its factorial: \"))  # Input\n",
        "factorial = 1\n",
        "i = number\n",
        "while i > 0:\n",
        "    factorial *= i\n",
        "    i -= 1\n",
        "print(f\"The factorial of {number} is {factorial}\")\n"
      ],
      "metadata": {
        "colab": {
          "base_uri": "https://localhost:8080/"
        },
        "id": "kqht7iuMMhWc",
        "outputId": "74ff9ac2-131d-4ef6-9592-a4361348239d",
        "collapsed": true
      },
      "execution_count": null,
      "outputs": [
        {
          "output_type": "stream",
          "name": "stdout",
          "text": [
            "Enter a number to calculate its factorial: 43\n",
            "The factorial of 43 is 60415263063373835637355132068513997507264512000000000\n"
          ]
        }
      ]
    }
  ]
}