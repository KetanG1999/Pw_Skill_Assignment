{
  "nbformat": 4,
  "nbformat_minor": 0,
  "metadata": {
    "colab": {
      "provenance": []
    },
    "kernelspec": {
      "name": "python3",
      "display_name": "Python 3"
    },
    "language_info": {
      "name": "python"
    }
  },
  "cells": [
    {
      "cell_type": "code",
      "execution_count": null,
      "metadata": {
        "id": "SIiCftmGuAYA"
      },
      "outputs": [],
      "source": [
        "##  Data Types and structures"
      ]
    },
    {
      "cell_type": "markdown",
      "source": [
        "Q1. write a code to create a string with your name and print it?"
      ],
      "metadata": {
        "id": "wV1qE3_Ou_wy"
      }
    },
    {
      "cell_type": "code",
      "source": [
        "print('Ketan Gosavi')"
      ],
      "metadata": {
        "colab": {
          "base_uri": "https://localhost:8080/"
        },
        "id": "bcUJR-olvTEX",
        "outputId": "2117978f-06e3-4c78-9f2f-2ec48307c3a1"
      },
      "execution_count": null,
      "outputs": [
        {
          "output_type": "stream",
          "name": "stdout",
          "text": [
            "Ketan Gosavi\n"
          ]
        }
      ]
    },
    {
      "cell_type": "markdown",
      "source": [
        "Q2. write a code to find the length of find the length of string \"Hello World\".?"
      ],
      "metadata": {
        "id": "sasesn4avZoh"
      }
    },
    {
      "cell_type": "code",
      "source": [
        "print(len('Hello World'))"
      ],
      "metadata": {
        "colab": {
          "base_uri": "https://localhost:8080/"
        },
        "id": "vEUuhN8dvqd7",
        "outputId": "ec813f28-d8da-478b-9a36-3015275f02f9"
      },
      "execution_count": null,
      "outputs": [
        {
          "output_type": "stream",
          "name": "stdout",
          "text": [
            "11\n"
          ]
        }
      ]
    },
    {
      "cell_type": "markdown",
      "source": [
        "Q3. write a code to slice the first 3 characters from the string 'python programming'?"
      ],
      "metadata": {
        "id": "uuOJMxriv0i9"
      }
    },
    {
      "cell_type": "code",
      "source": [
        "string = \"Python Programming\"\n",
        "print('Slicing of string:',string[0:3])"
      ],
      "metadata": {
        "colab": {
          "base_uri": "https://localhost:8080/"
        },
        "id": "XFBGxEHCwJa_",
        "outputId": "a35b8984-1d30-45ac-bfbc-6a223f9ba1fa"
      },
      "execution_count": null,
      "outputs": [
        {
          "output_type": "stream",
          "name": "stdout",
          "text": [
            "Slicing of string: Pyt\n"
          ]
        }
      ]
    },
    {
      "cell_type": "markdown",
      "source": [
        "Q4. write a code to convert the string'hello' in uppercase"
      ],
      "metadata": {
        "id": "Umo9bOY6w_rY"
      }
    },
    {
      "cell_type": "code",
      "source": [
        "text = 'hello'\n",
        "uppercase_text = text.upper()\n",
        "print(uppercase_text)\n"
      ],
      "metadata": {
        "colab": {
          "base_uri": "https://localhost:8080/"
        },
        "id": "IqWyJF3izTsV",
        "outputId": "3d1b65e5-fa73-4745-bc51-0f2bb1b5de8c"
      },
      "execution_count": null,
      "outputs": [
        {
          "output_type": "stream",
          "name": "stdout",
          "text": [
            "HELLO\n"
          ]
        }
      ]
    },
    {
      "cell_type": "markdown",
      "source": [
        "Q5. write a code to replace the 'apple' with'orange' in the string 'i like apple'"
      ],
      "metadata": {
        "id": "T4RhCGkuk38e"
      }
    },
    {
      "cell_type": "code",
      "source": [
        "text = 'I like apple'\n",
        "new_text = text.replace('apple', 'orange')\n",
        "print(new_text)\n"
      ],
      "metadata": {
        "colab": {
          "base_uri": "https://localhost:8080/"
        },
        "id": "wkXRLz7dlhWi",
        "outputId": "352b9ff0-42dd-473d-8211-04fa27a1cc99"
      },
      "execution_count": null,
      "outputs": [
        {
          "output_type": "stream",
          "name": "stdout",
          "text": [
            "I like orange\n"
          ]
        }
      ]
    },
    {
      "cell_type": "markdown",
      "source": [
        "Q6. write a code to create a list with number 1 to 5 and print it"
      ],
      "metadata": {
        "id": "80RpRp7Ql5MJ"
      }
    },
    {
      "cell_type": "code",
      "source": [
        "numbers = [1, 2, 3, 4, 5]\n",
        "print(numbers)"
      ],
      "metadata": {
        "colab": {
          "base_uri": "https://localhost:8080/"
        },
        "id": "O6HI01PimWI5",
        "outputId": "60073133-723a-4791-d1ff-9889d4da05aa"
      },
      "execution_count": null,
      "outputs": [
        {
          "output_type": "stream",
          "name": "stdout",
          "text": [
            "[1, 2, 3, 4, 5]\n"
          ]
        }
      ]
    },
    {
      "cell_type": "markdown",
      "source": [],
      "metadata": {
        "id": "6AueKYLkmj5X"
      }
    },
    {
      "cell_type": "markdown",
      "source": [
        "Q7.write a code to append the number 10 to the list [1,2,3,4]."
      ],
      "metadata": {
        "id": "5GWD-NyhmslW"
      }
    },
    {
      "cell_type": "code",
      "source": [
        "numbers = [1, 2, 3, 4]\n",
        "numbers.append(10)\n",
        "print(numbers)\n"
      ],
      "metadata": {
        "id": "78QeRhGJnKB_"
      },
      "execution_count": null,
      "outputs": []
    },
    {
      "cell_type": "markdown",
      "source": [
        "Q8. write the code to remove the number 3 in the list [1,2,3,4,5]."
      ],
      "metadata": {
        "id": "eHUHPmtDnWpy"
      }
    },
    {
      "cell_type": "code",
      "source": [
        "numbers = [1, 2, 3, 4, 5]\n",
        "numbers.remove(3)\n",
        "print(numbers)\n"
      ],
      "metadata": {
        "id": "YQa0krZFnrcQ"
      },
      "execution_count": null,
      "outputs": []
    },
    {
      "cell_type": "markdown",
      "source": [
        "Q9. write a code to access the second element in the list['a','b','c','d']."
      ],
      "metadata": {
        "id": "S64DMZ6noDeJ"
      }
    },
    {
      "cell_type": "code",
      "source": [
        "letters = ['a', 'b', 'c', 'd']\n",
        "second_element = letters[1]\n",
        "print(second_element)\n"
      ],
      "metadata": {
        "id": "70ZeKqdRon_n"
      },
      "execution_count": null,
      "outputs": []
    },
    {
      "cell_type": "markdown",
      "source": [
        "Q10. write a code to reverse the list[10,20,30,40,50]"
      ],
      "metadata": {
        "id": "uNm4lxI4oxYB"
      }
    },
    {
      "cell_type": "code",
      "source": [
        "numbers = [10, 20, 30, 40, 50]\n",
        "numbers.reverse()\n",
        "print(numbers)\n"
      ],
      "metadata": {
        "id": "t-PcFQMkpCMB"
      },
      "execution_count": null,
      "outputs": []
    },
    {
      "cell_type": "markdown",
      "source": [
        "Q11. write a code to crete a touple with the elements 10,20,30 and print it."
      ],
      "metadata": {
        "id": "5-WVoGWopRv1"
      }
    },
    {
      "cell_type": "code",
      "source": [
        "my_tuple = (10, 20, 30)\n",
        "print(my_tuple)\n"
      ],
      "metadata": {
        "id": "nn0b2MnKprcM"
      },
      "execution_count": null,
      "outputs": []
    },
    {
      "cell_type": "markdown",
      "source": [
        "Q12. write a code to access the first element in the touple('apple','banana','cherry')."
      ],
      "metadata": {
        "id": "kkWTbJqXpxJ4"
      }
    },
    {
      "cell_type": "code",
      "source": [
        "fruits = ('apple', 'banana', 'cherry')\n",
        "first_fruit = fruits[0]\n",
        "print(first_fruit)\n"
      ],
      "metadata": {
        "id": "PZCwHky_qmeS"
      },
      "execution_count": null,
      "outputs": []
    },
    {
      "cell_type": "markdown",
      "source": [
        "Q13. write a code to count how many times the number 2 appear in the tuple(1,2,3,2,4,2)."
      ],
      "metadata": {
        "id": "oWSXwDGAqvjW"
      }
    },
    {
      "cell_type": "code",
      "source": [
        "numbers = (1, 2, 3, 2, 4, 2)\n",
        "count_of_twos = numbers.count(2)\n",
        "print(count_of_twos)\n"
      ],
      "metadata": {
        "id": "psnDTH4xrPDj"
      },
      "execution_count": null,
      "outputs": []
    },
    {
      "cell_type": "markdown",
      "source": [
        "Q14. write a code to find the index of the element 'cat' in the tuple('dog','cat','rabbit')"
      ],
      "metadata": {
        "id": "1XPn1uSOrrPI"
      }
    },
    {
      "cell_type": "code",
      "source": [
        "animals = ('dog', 'cat', 'rabbit')\n",
        "index_of_cat = animals.index('cat')\n",
        "print(index_of_cat)\n"
      ],
      "metadata": {
        "id": "9hYLaizZsL1_"
      },
      "execution_count": null,
      "outputs": []
    },
    {
      "cell_type": "markdown",
      "source": [
        "Q15. write a code to chech if the element'banana 'is in the tuple('apple','orange','banana')"
      ],
      "metadata": {
        "id": "qir7NdM4sgzX"
      }
    },
    {
      "cell_type": "code",
      "source": [
        "fruits = ('apple', 'orange', 'banana')\n",
        "is_banana_in_tuple = 'banana' in fruits\n",
        "print(is_banana_in_tuple)\n"
      ],
      "metadata": {
        "id": "_ZY9kWw8s9eK",
        "colab": {
          "base_uri": "https://localhost:8080/"
        },
        "outputId": "59e1d205-bcac-4daf-9d47-e53dc0f51686"
      },
      "execution_count": 4,
      "outputs": [
        {
          "output_type": "stream",
          "name": "stdout",
          "text": [
            "True\n"
          ]
        }
      ]
    },
    {
      "cell_type": "markdown",
      "source": [
        "Q16. write a code to create a set with the elements 1,2,3,4,5 and print it?"
      ],
      "metadata": {
        "id": "9QzKiItNpjho"
      }
    },
    {
      "cell_type": "code",
      "source": [
        "my_set = {1, 2, 3, 4, 5}\n",
        "print(my_set)\n"
      ],
      "metadata": {
        "id": "R_DvwcV0qKbA"
      },
      "execution_count": null,
      "outputs": []
    },
    {
      "cell_type": "markdown",
      "source": [
        "Q17. write a code to add the element 6 to the set{1,2,3,4}."
      ],
      "metadata": {
        "id": "W9iuRiMTqWBT"
      }
    },
    {
      "cell_type": "code",
      "source": [
        "my_set = {1, 2, 3, 4}\n",
        "my_set.add(6)\n",
        "print(my_set)\n"
      ],
      "metadata": {
        "id": "5KZWqLesqtlQ"
      },
      "execution_count": null,
      "outputs": []
    },
    {
      "cell_type": "markdown",
      "source": [
        "Q18. write a code to create a tuple with the elements 10,20,30 and print it."
      ],
      "metadata": {
        "id": "SEATISw-rGW7"
      }
    },
    {
      "cell_type": "code",
      "source": [
        "my_tuple = (10, 20, 30)\n",
        "print(my_tuple)\n"
      ],
      "metadata": {
        "id": "3Bfhu-1_shVI"
      },
      "execution_count": null,
      "outputs": []
    },
    {
      "cell_type": "markdown",
      "source": [
        "Q19. write a code to access the first element of te tuple('banana','apple','cherry')"
      ],
      "metadata": {
        "id": "Dm5kz7Ihsv89"
      }
    },
    {
      "cell_type": "code",
      "source": [
        "fruits = ('banana','apple','cherry')\n",
        "print('Access The first Element:',fruits[0])"
      ],
      "metadata": {
        "colab": {
          "base_uri": "https://localhost:8080/"
        },
        "id": "5lov5TxmtX1J",
        "outputId": "70084acf-79f7-4bf5-db7a-f50ccbb90423"
      },
      "execution_count": 3,
      "outputs": [
        {
          "output_type": "stream",
          "name": "stdout",
          "text": [
            "Access The first Element: banana\n"
          ]
        }
      ]
    },
    {
      "cell_type": "markdown",
      "source": [
        "Q20. write a code to count how many times the number 2 appears in the tuple(1,2,3,2,4,2)"
      ],
      "metadata": {
        "id": "h7Vs2xPcuZu5"
      }
    },
    {
      "cell_type": "code",
      "source": [
        "numbers = (1,2,3,2,4,2)\n",
        "count_twos = numbers.count(2)\n",
        "print(count_twos)"
      ],
      "metadata": {
        "id": "Bh05jFVGvP0h"
      },
      "execution_count": null,
      "outputs": []
    },
    {
      "cell_type": "markdown",
      "source": [
        "Q21. write a code to find the index of the element 'banana'in the tuple('dog','cat','rabbit')"
      ],
      "metadata": {
        "id": "SqKRpNLYvpON"
      }
    },
    {
      "cell_type": "code",
      "source": [
        "animals = ('dog', 'cat', 'rabbit')\n",
        "index_of_cat = animals.index('cat')\n",
        "print(index_of_cat)"
      ],
      "metadata": {
        "id": "wYzPOXJSxTLz"
      },
      "execution_count": null,
      "outputs": []
    },
    {
      "cell_type": "markdown",
      "source": [
        "Q22. write a code to chech if the element'banana 'is in the tuple('apple','orange','banana')"
      ],
      "metadata": {
        "id": "qzCVpxUhxgK9"
      }
    },
    {
      "cell_type": "code",
      "source": [
        "fruits = ('apple', 'orange', 'banana')\n",
        "is_banana_in_tuple = 'banana' in fruits\n",
        "print(is_banana_in_tuple)"
      ],
      "metadata": {
        "id": "c3k200U2xqpk"
      },
      "execution_count": null,
      "outputs": []
    },
    {
      "cell_type": "markdown",
      "source": [
        "Q23. write a code to cretae a set withe elements 1,2,3,4,5 and print it"
      ],
      "metadata": {
        "id": "zVgE3KDqxuPu"
      }
    },
    {
      "cell_type": "code",
      "source": [
        "numbers = {1,2,3,4,5}\n",
        "print(numbers)"
      ],
      "metadata": {
        "id": "SOsfUextyFST"
      },
      "execution_count": null,
      "outputs": []
    },
    {
      "cell_type": "markdown",
      "source": [
        "Q24. write a code to add the element 6 to the set{1,2,3,4}"
      ],
      "metadata": {
        "id": "A8QGaqyWyQQI"
      }
    },
    {
      "cell_type": "code",
      "source": [
        "numbers= {1,2,3,4}\n",
        "numbers.add(6)\n",
        "print(numbers)"
      ],
      "metadata": {
        "colab": {
          "base_uri": "https://localhost:8080/"
        },
        "id": "0VzeAryRynPk",
        "outputId": "2e263824-275c-478a-bdbd-ad37857b7cb3"
      },
      "execution_count": 6,
      "outputs": [
        {
          "output_type": "stream",
          "name": "stdout",
          "text": [
            "{1, 2, 3, 4, 6}\n"
          ]
        }
      ]
    }
  ]
}